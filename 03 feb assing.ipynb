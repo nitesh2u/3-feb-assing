{
 "cells": [
  {
   "cell_type": "markdown",
   "id": "060b7f89-1e25-49ae-aa8a-501009f1dfdd",
   "metadata": {},
   "source": [
    "1.Which keyword is used to create a function? Create a function to return a list of odd numbers in the\n",
    "range of 1 to 25."
   ]
  },
  {
   "cell_type": "markdown",
   "id": "f5154e4c-b232-41da-b182-a4896329964c",
   "metadata": {},
   "source": [
    "def keyword is use to define a function\n"
   ]
  },
  {
   "cell_type": "code",
   "execution_count": 8,
   "id": "8dfb4f4c-9e98-4a52-8921-611db9fa0e5d",
   "metadata": {},
   "outputs": [
    {
     "name": "stdout",
     "output_type": "stream",
     "text": [
      "1\n",
      "2\n",
      "3\n",
      "4\n",
      "5\n",
      "6\n",
      "7\n",
      "8\n",
      "9\n",
      "10\n",
      "11\n",
      "12\n",
      "13\n",
      "14\n",
      "15\n",
      "16\n",
      "17\n",
      "18\n",
      "19\n",
      "20\n",
      "21\n",
      "22\n",
      "23\n",
      "24\n",
      "25\n"
     ]
    }
   ],
   "source": [
    " for n in range(1,26):\n",
    "    print(n)"
   ]
  },
  {
   "cell_type": "code",
   "execution_count": 9,
   "id": "039c1863-cea1-4c49-8de3-1ed8b087af9a",
   "metadata": {},
   "outputs": [],
   "source": [
    "def get_odd_numbers(n):\n",
    "    odd_numbers = []\n",
    "    for number in range(1, 26):\n",
    "        if number % 2 != 0:\n",
    "            odd_numbers.append(number)\n",
    "    return odd_numbers"
   ]
  },
  {
   "cell_type": "code",
   "execution_count": 10,
   "id": "6e6ef523-488a-4f54-acb2-384614484db3",
   "metadata": {},
   "outputs": [
    {
     "data": {
      "text/plain": [
       "[1, 3, 5, 7, 9, 11, 13, 15, 17, 19, 21, 23, 25]"
      ]
     },
     "execution_count": 10,
     "metadata": {},
     "output_type": "execute_result"
    }
   ],
   "source": [
    "get_odd_numbers(n)"
   ]
  },
  {
   "cell_type": "markdown",
   "id": "1616b1d2-9390-49d5-a15d-5e081d2b750e",
   "metadata": {},
   "source": [
    "2. Why *args and **kwargs is used in some functions? Create a function each for *args and **kwargs to\n",
    "demonstrate their use."
   ]
  },
  {
   "cell_type": "markdown",
   "id": "6ae39261-11d5-4fd5-af1b-eaba3243a506",
   "metadata": {},
   "source": [
    "ans- The *args syntax allows a function to accept any number of positional arguments. we can use any words with *. \n",
    "on otherside The **kwargs syntax allows a function to accept any number of keyword arguments. It is use to differeintate dictinory n number of argument."
   ]
  },
  {
   "cell_type": "code",
   "execution_count": 28,
   "id": "2f342106-00d4-448e-9475-2d467670e74b",
   "metadata": {},
   "outputs": [
    {
     "name": "stdout",
     "output_type": "stream",
     "text": [
      "Hello\n",
      "World\n",
      "!\n"
     ]
    }
   ],
   "source": [
    "def print_arguments(*args):\n",
    "    for arg1 in args:\n",
    "        print(arg1)\n",
    "\n",
    "print_arguments('Hello', 'World', '!')\n"
   ]
  },
  {
   "cell_type": "code",
   "execution_count": 29,
   "id": "90809d0e-e28d-4499-b468-8e142ea75b7a",
   "metadata": {},
   "outputs": [
    {
     "name": "stdout",
     "output_type": "stream",
     "text": [
      "name: nitesh\n",
      "age: 28\n",
      "city: india\n"
     ]
    }
   ],
   "source": [
    "def print_keywords23(**kwargs):\n",
    "    for key, value in kwargs.items():\n",
    "        print(key + \": \" + str(value))\n",
    "\n",
    "print_keywords(name='nitesh', age=28, city='india')\n"
   ]
  },
  {
   "cell_type": "markdown",
   "id": "9dbe6ce6-8590-43ad-8ec5-a79a5db70de5",
   "metadata": {},
   "source": [
    "3. What is an iterator in python? Name the method used to initialise the iterator object and the method\n",
    "used for iteration. Use these methods to print the first five elements of the given list [2, 4, 6, 8, 10, 12, 14, 16,\n",
    "18, 20]."
   ]
  },
  {
   "cell_type": "markdown",
   "id": "420d115c-738e-44c0-a5d2-cd24152b8955",
   "metadata": {},
   "source": [
    "ans- An iterator is an object in Python that enables you to loop through a series of elements. It offers a mechanism to access each element of a container (like a list) separately without having to be aware of the implementation's inner workings.\n",
    "Python's iter() method can be used to build iterator objects. It receives an argument that is an iterable object (such a list) and returns an iterator object.The next() method can be used to iterate across an iterator object's elements. It takes the following element out of the iterator. You can loop through every element of the iterator by continuously executing next() until the iterator is full.\n"
   ]
  },
  {
   "cell_type": "code",
   "execution_count": 32,
   "id": "cde1525a-e925-429d-a391-5a821dfe4b44",
   "metadata": {},
   "outputs": [
    {
     "name": "stdout",
     "output_type": "stream",
     "text": [
      "2\n",
      "4\n",
      "6\n",
      "8\n",
      "10\n"
     ]
    }
   ],
   "source": [
    "my_list = [2, 4, 6, 8, 10, 12, 14, 16, 18, 20]\n",
    "my_iterator = iter(my_list)\n",
    "\n",
    "for _ in range(5):\n",
    "    element = next(my_iterator)\n",
    "    print(element)\n"
   ]
  },
  {
   "cell_type": "markdown",
   "id": "52d770a6-a1fd-4b06-b7a5-87fef2055aba",
   "metadata": {},
   "source": [
    "4. What is a generator function in python? Why yield keyword is used? Give an example of a generator\n",
    "function."
   ]
  },
  {
   "cell_type": "markdown",
   "id": "0348a50a-c596-45ee-9402-88c8378a3fbe",
   "metadata": {},
   "source": [
    "A generator function is a unique kind of function that uses the yield keyword to generate a series of values. Generator functions have the ability to pause and restart their execution, which enables them to output a stream of values over time as opposed to normal functions, which only ever return one result and then end.\n"
   ]
  },
  {
   "cell_type": "code",
   "execution_count": 41,
   "id": "ec89199c-0497-4870-b204-778f9cb99edc",
   "metadata": {},
   "outputs": [],
   "source": [
    "def test_num(n):\n",
    "    a,b=0,1\n",
    "    for i in range(n):\n",
    "        yield a\n",
    "        a,b=b,a-b"
   ]
  },
  {
   "cell_type": "code",
   "execution_count": 42,
   "id": "c8726e52-b746-465e-ab93-f61745399459",
   "metadata": {},
   "outputs": [
    {
     "data": {
      "text/plain": [
       "<generator object test_num at 0x7feb9ee530d0>"
      ]
     },
     "execution_count": 42,
     "metadata": {},
     "output_type": "execute_result"
    }
   ],
   "source": [
    "test_num(10)"
   ]
  },
  {
   "cell_type": "code",
   "execution_count": 43,
   "id": "476f8a1a-9c9b-4940-a48b-c791318ddbe3",
   "metadata": {},
   "outputs": [
    {
     "name": "stdout",
     "output_type": "stream",
     "text": [
      "0\n",
      "1\n",
      "-1\n",
      "2\n",
      "-3\n",
      "5\n",
      "-8\n",
      "13\n",
      "-21\n",
      "34\n"
     ]
    }
   ],
   "source": [
    "for i in test_num(10):\n",
    "        print(i)"
   ]
  },
  {
   "cell_type": "markdown",
   "id": "976788b9-60b9-4bec-adae-a7f486a365e4",
   "metadata": {},
   "source": [
    "5.Create a generator function for prime numbers less than 1000. Use the next() method to print the\n",
    "first 20 prime numbers."
   ]
  },
  {
   "cell_type": "code",
   "execution_count": 44,
   "id": "1907b858-b077-4c34-a027-82739abb738e",
   "metadata": {},
   "outputs": [
    {
     "name": "stdout",
     "output_type": "stream",
     "text": [
      "2\n",
      "3\n",
      "5\n",
      "7\n",
      "11\n",
      "13\n",
      "17\n",
      "19\n",
      "23\n",
      "29\n",
      "31\n",
      "37\n",
      "41\n",
      "43\n",
      "47\n",
      "53\n",
      "59\n",
      "61\n",
      "67\n",
      "71\n"
     ]
    }
   ],
   "source": [
    "def prime_generator():\n",
    "    primes = []\n",
    "    number = 2\n",
    "\n",
    "    while True:\n",
    "        is_prime = True\n",
    "\n",
    "        for prime in primes:\n",
    "            if prime * prime > number:\n",
    "                break\n",
    "            if number % prime == 0:\n",
    "                is_prime = False\n",
    "                break\n",
    "\n",
    "        if is_prime:\n",
    "            primes.append(number)\n",
    "            yield number\n",
    "\n",
    "        number += 1\n",
    "\n",
    "prime_gen = prime_generator()\n",
    "\n",
    "\n",
    "for _ in range(20):\n",
    "    prime_number = next(prime_gen)\n",
    "    print(prime_number)\n"
   ]
  },
  {
   "cell_type": "code",
   "execution_count": null,
   "id": "6df5bc0b-63f2-4855-a78e-e6dd0ea08bcd",
   "metadata": {},
   "outputs": [],
   "source": []
  }
 ],
 "metadata": {
  "kernelspec": {
   "display_name": "Python 3 (ipykernel)",
   "language": "python",
   "name": "python3"
  },
  "language_info": {
   "codemirror_mode": {
    "name": "ipython",
    "version": 3
   },
   "file_extension": ".py",
   "mimetype": "text/x-python",
   "name": "python",
   "nbconvert_exporter": "python",
   "pygments_lexer": "ipython3",
   "version": "3.10.8"
  }
 },
 "nbformat": 4,
 "nbformat_minor": 5
}
